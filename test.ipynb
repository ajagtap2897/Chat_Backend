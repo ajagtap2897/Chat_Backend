{
 "cells": [
  {
   "cell_type": "code",
   "execution_count": 8,
   "metadata": {},
   "outputs": [],
   "source": [
    "import json\n",
    "import random\n",
    "from uuid import UUID, uuid4\n",
    "\n",
    "\n",
    "data = None\n",
    "\n",
    "with open('MOCK_DATA.json', 'r') as file:\n",
    "    data = json.load(file)\n",
    "\n",
    "id_list = [\"2a2edf8c-df33-4649-9307-d485186176eb\", \"68393319-b382-4d1f-baad-527ea41ef5c3\", \"e82605d4-15d4-4989-ae35-8f44461befee\"]\n",
    "\n",
    "for item in data:\n",
    "    item[\"_id\"] = str(uuid4())\n",
    "    item['sender'] = random.choice(id_list)\n",
    "    item['receiver'] = random.choice(list(filter(lambda x: x != item['sender'], id_list)))\n",
    "\n",
    "with open('MOCK_DATA.json', 'w') as file:\n",
    "    json.dump(data, file, indent=4)\n"
   ]
  },
  {
   "cell_type": "code",
   "execution_count": 9,
   "metadata": {},
   "outputs": [
    {
     "name": "stdout",
     "output_type": "stream",
     "text": [
      "{'2a2edf8c-df33-4649-9307-d485186176eb', '68393319-b382-4d1f-baad-527ea41ef5c3', 'e82605d4-15d4-4989-ae35-8f44461befee'} {'2a2edf8c-df33-4649-9307-d485186176eb', 'e82605d4-15d4-4989-ae35-8f44461befee', '68393319-b382-4d1f-baad-527ea41ef5c3'}\n"
     ]
    }
   ],
   "source": [
    "unique_sender_id = set() \n",
    "unique_receiver_id = set() \n",
    "\n",
    "for item in data:\n",
    "    unique_receiver_id.add(item['receiver'])\n",
    "    unique_sender_id.add(item['sender'])\n",
    "\n",
    "print(unique_sender_id, unique_receiver_id)"
   ]
  }
 ],
 "metadata": {
  "kernelspec": {
   "display_name": ".venv",
   "language": "python",
   "name": "python3"
  },
  "language_info": {
   "codemirror_mode": {
    "name": "ipython",
    "version": 3
   },
   "file_extension": ".py",
   "mimetype": "text/x-python",
   "name": "python",
   "nbconvert_exporter": "python",
   "pygments_lexer": "ipython3",
   "version": "3.12.2"
  }
 },
 "nbformat": 4,
 "nbformat_minor": 2
}
